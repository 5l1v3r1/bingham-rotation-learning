{
 "cells": [
  {
   "cell_type": "code",
   "execution_count": 2,
   "metadata": {},
   "outputs": [],
   "source": [
    "import numpy as np\n",
    "from liegroups import SO3\n",
    "from numpy.linalg import norm"
   ]
  },
  {
   "cell_type": "code",
   "execution_count": 3,
   "metadata": {},
   "outputs": [],
   "source": [
    "def compute_rotation_from_two_vectors(a_1, a_2, b_1, b_2):\n",
    "    #Returns C, such that b_1 = C a_1 and b_2 = C a_2\n",
    "    \n",
    "    ## Construct orthonormal basis of 'a' frame\n",
    "    a_1_u = a_1/(norm(a_1))\n",
    "    a_2_u = a_2/(norm(a_2))\n",
    "    alpha = a_1_u.dot(a_2_u)\n",
    "\n",
    "    a_basis_1 = a_1_u\n",
    "    a_basis_2 = a_2_u - alpha*a_1_u\n",
    "    a_basis_2 /= norm(a_basis_2)\n",
    "    a_basis_3 = np.cross(a_basis_1, a_basis_2)\n",
    "\n",
    "    ## Construct basis of 'b' frame\n",
    "    b_basis_1 = b_1/norm(b_1)\n",
    "    b_basis_2 = b_2/norm(b_2) - alpha*b_basis_1\n",
    "    b_basis_2 /= norm(b_basis_2)\n",
    "    b_basis_3 = np.cross(b_basis_1, b_basis_2)\n",
    "\n",
    "\n",
    "    #Basis of 'a' frame as column vectors\n",
    "    M_a = np.array([a_basis_1, a_basis_2, a_basis_3])\n",
    "\n",
    "    #Basis of 'b' frame as row vectors\n",
    "    M_b = np.array([b_basis_1, b_basis_2, b_basis_3]).T\n",
    "\n",
    "\n",
    "    #Direction cosine matrix from a to b!\n",
    "    C = M_b.dot(M_a)\n",
    "    \n",
    "    return C"
   ]
  },
  {
   "cell_type": "code",
   "execution_count": 6,
   "metadata": {},
   "outputs": [
    {
     "name": "stdout",
     "output_type": "stream",
     "text": [
      "[0.59215494 0.18589634 0.60745638]\n",
      "[0.59215494 0.18589634 0.60745638]\n",
      "[ 0.55500259 -0.0995378   0.93841926]\n",
      "[ 0.55500259 -0.0995378   0.93841926]\n",
      "\n",
      "7.43207042519283e-16\n"
     ]
    }
   ],
   "source": [
    "#Create a random rotation\n",
    "C = SO3.exp(np.random.randn(3)).as_matrix()\n",
    "\n",
    "#Create two vectors\n",
    "a_1 = np.random.rand(3)\n",
    "a_2 = np.random.rand(3)\n",
    "b_1 = C.dot(a_1)\n",
    "b_2 = C.dot(a_2)\n",
    "\n",
    "C_est = compute_rotation_from_two_vectors(a_1, a_2, b_1, b_2)\n",
    "\n",
    "#Compare\n",
    "\n",
    "print(b_1)\n",
    "print(C_est.dot(a_1))\n",
    "print(b_2)\n",
    "print(C_est.dot(a_2))\n",
    "print('')\n",
    "print(np.linalg.norm(C-C_est))"
   ]
  },
  {
   "cell_type": "code",
   "execution_count": null,
   "metadata": {},
   "outputs": [],
   "source": []
  },
  {
   "cell_type": "code",
   "execution_count": null,
   "metadata": {},
   "outputs": [],
   "source": []
  }
 ],
 "metadata": {
  "kernelspec": {
   "display_name": "Python 3",
   "language": "python",
   "name": "python3"
  },
  "language_info": {
   "codemirror_mode": {
    "name": "ipython",
    "version": 3
   },
   "file_extension": ".py",
   "mimetype": "text/x-python",
   "name": "python",
   "nbconvert_exporter": "python",
   "pygments_lexer": "ipython3",
   "version": "3.6.7"
  }
 },
 "nbformat": 4,
 "nbformat_minor": 2
}
